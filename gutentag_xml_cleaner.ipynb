{
 "cells": [
  {
   "cell_type": "code",
   "source": [
    "#\n",
    "#             *\n",
    "#            * *\n",
    "#           *   *\n",
    "#          *     *\n",
    "#           *   *\n",
    "#            * *\n",
    "#             *\n",
    "#\n",
    "# March Twenty-Fifth, Two Thousand Twenty-One\n",
    "# Red Queen\n",
    "# tarah@redqueentech.com\n",
    "#\n",
    "# The digital humanities only looks like it's computational. Actually, it's data cleaning. Forever.\n",
    "#\n",
    "# Use me for cleaning Gutentag XML exports to get down to the nested paragraphs and return pandas dataframes\n",
    "# that project found here: https://gutentag.sdsu.edu/\n"
   ],
   "metadata": {
    "collapsed": false,
    "pycharm": {
     "name": "#%%\n"
    }
   },
   "execution_count": 19,
   "outputs": []
  },
  {
   "cell_type": "code",
   "execution_count": 20,
   "outputs": [],
   "source": [
    "from xml.etree.ElementTree import ElementTree\n",
    "import pandas as pd\n",
    "from html import unescape\n",
    "from xml.etree import ElementTree\n",
    "from nltk import sent_tokenize, re\n",
    "import xmltodict"
   ],
   "metadata": {
    "collapsed": false,
    "pycharm": {
     "name": "#%%\n"
    }
   }
  },
  {
   "cell_type": "markdown",
   "source": [
    "Read in XML file from Gutentag for paragraphs. Shelley and Dickens are sampled"
   ],
   "metadata": {
    "collapsed": false
   }
  },
  {
   "cell_type": "code",
   "execution_count": 21,
   "outputs": [],
   "source": [
    "def xml_to_dataframe(f_path):\n",
    "    root = ElementTree.parse(f_path).getroot()\n",
    "    elements = root.getchildren()[0][-1] #You may have to play with this to isolate the element\n",
    "    f_dict = {'paragraph': []}\n",
    "    for b in elements:\n",
    "        if b.attrib.get('type', None) == 'chapter':\n",
    "            for t in b.getchildren():\n",
    "                try:\n",
    "                    if len(t.text.strip()) > 30:\n",
    "                        f_dict['paragraph'].append(t.text)\n",
    "                except:\n",
    "                    continue\n",
    "        else:\n",
    "            try:\n",
    "                if len(b.text.strip()) > 30:\n",
    "                    f_dict['paragraph'].append(b.text)\n",
    "            except:\n",
    "                continue #Extremely broad exceptions that may skip over large text portions; YMMV\n",
    "    df = pd.DataFrame.from_dict(f_dict)\n",
    "    return df"
   ],
   "metadata": {
    "collapsed": false,
    "pycharm": {
     "name": "#%%\n"
    }
   }
  },
  {
   "cell_type": "markdown",
   "source": [
    "The odd case of parsing letters as XML. Austen letters are sampled"
   ],
   "metadata": {
    "collapsed": false
   }
  },
  {
   "cell_type": "code",
   "execution_count": 22,
   "outputs": [],
   "source": [
    "def letters_to_dataframe(f_path):\n",
    "    elements = xmltodict.parse(open(f_path).read())\n",
    "    paragraph_groups = [t['body']['p'] for t in elements['TEI']['text']['group']['text']]\n",
    "    paragraph_objs = [item for sublist in paragraph_groups for item in sublist]\n",
    "    paragraphs = []\n",
    "    for item in paragraph_objs:\n",
    "        try:\n",
    "            if len(item['#text']) > 30:\n",
    "                paragraphs.append(item['#text'])\n",
    "        except:\n",
    "            continue\n",
    "    f_dict = {'paragraph': paragraphs}\n",
    "    df = pd.DataFrame.from_dict(f_dict)\n",
    "    return df"
   ],
   "metadata": {
    "collapsed": false,
    "pycharm": {
     "name": "#%%\n"
    }
   }
  },
  {
   "cell_type": "markdown",
   "source": [
    "Define a function to feed in a text file and get back a dataframe; sampled with Lovelace's\n",
    "letters to Augustus De Morgan"
   ],
   "metadata": {
    "collapsed": false
   }
  },
  {
   "cell_type": "code",
   "execution_count": 23,
   "outputs": [],
   "source": [
    "def text_to_dataframe(f_path):\n",
    "    file = open(f_path, 'rt', encoding='utf8')\n",
    "    text = file.read()\n",
    "    file.close()\n",
    "    sent = sent_tokenize(text)\n",
    "    df = pd.DataFrame(sent)\n",
    "    df.rename(columns={0:\"paragraph\"}, inplace=True)\n",
    "    return df"
   ],
   "metadata": {
    "collapsed": false,
    "pycharm": {
     "name": "#%%\n"
    }
   }
  },
  {
   "cell_type": "code",
   "execution_count": 24,
   "outputs": [
    {
     "name": "stdout",
     "output_type": "stream",
     "text": [
      "                                             paragraph\n",
      "0    How slowly the time passes here , encompassed ...\n",
      "1    But I have one want which I have never yet bee...\n",
      "2    Yet do not suppose , because I complain a litt...\n",
      "3    I cannot describe to you my sensations on the ...\n",
      "4            Your affectionate brother , Robert Walton\n",
      "..                                                 ...\n",
      "355  I am interrupted . What do these sounds porten...\n",
      "356  Great God ! what a scene has just taken place ...\n",
      "357  He paused , looking on me with wonder , and ag...\n",
      "358  I was at first touched by the expressions of h...\n",
      "359  He sprang from the cabin window as he said thi...\n",
      "\n",
      "[360 rows x 1 columns]\n"
     ]
    },
    {
     "name": "stderr",
     "output_type": "stream",
     "text": [
      "<ipython-input-21-fe11eed7a647>:3: DeprecationWarning: This method will be removed in future versions.  Use 'list(elem)' or iteration over elem instead.\n",
      "  elements = root.getchildren()[0][-1] #You may have to play with this to isolate the element\n",
      "<ipython-input-21-fe11eed7a647>:7: DeprecationWarning: This method will be removed in future versions.  Use 'list(elem)' or iteration over elem instead.\n",
      "  for t in b.getchildren():\n",
      "<ipython-input-21-fe11eed7a647>:3: DeprecationWarning: This method will be removed in future versions.  Use 'list(elem)' or iteration over elem instead.\n",
      "  elements = root.getchildren()[0][-1] #You may have to play with this to isolate the element\n",
      "<ipython-input-21-fe11eed7a647>:7: DeprecationWarning: This method will be removed in future versions.  Use 'list(elem)' or iteration over elem instead.\n",
      "  for t in b.getchildren():\n"
     ]
    }
   ],
   "source": [
    "#Get some dataframes\n",
    "\n",
    "frankenstein_df = xml_to_dataframe('Frankenstein.xml')\n",
    "print(frankenstein_df)\n",
    "\n",
    "pickwick_df = xml_to_dataframe('Pickwick.xml')\n",
    "#print(pickwick_df)\n",
    "\n",
    "austen_df = letters_to_dataframe('AustenLetters.xml')\n",
    "#print(austen_df)\n",
    "\n",
    "lovelace_df = text_to_dataframe('Lovelace.txt')\n",
    "#print(lovelace_df)"
   ],
   "metadata": {
    "collapsed": false,
    "pycharm": {
     "name": "#%%\n"
    }
   }
  },
  {
   "cell_type": "code",
   "execution_count": 25,
   "outputs": [],
   "source": [
    "# Define function to clean text\n",
    "def clean(text):\n",
    "    text = unescape(text)\n",
    "    text = re.sub('[^a-zA-Z]', ' ', text)\n",
    "    text = ' '.join([w.lower() for w in text.split()])\n",
    "    return text"
   ],
   "metadata": {
    "collapsed": false,
    "pycharm": {
     "name": "#%%\n"
    }
   }
  },
  {
   "cell_type": "markdown",
   "source": [
    "Clean up the dataframes and remove cruft."
   ],
   "metadata": {
    "collapsed": false
   }
  },
  {
   "cell_type": "code",
   "execution_count": 26,
   "outputs": [],
   "source": [
    "# Create column with cleaned text\n",
    "frankenstein_df['cleaned_text'] = frankenstein_df.paragraph.map(lambda x: clean(x))\n",
    "frankenstein_df = frankenstein_df['cleaned_text']\n",
    "pickwick_df['cleaned_text'] = pickwick_df.paragraph.map(lambda x: clean(x))\n",
    "pickwick_df = pickwick_df['cleaned_text']\n",
    "austen_df['cleaned_text'] = austen_df.paragraph.map(lambda x: clean(x))\n",
    "austen_df = austen_df['cleaned_text']\n",
    "lovelace_df['cleaned_text'] = lovelace_df.paragraph.map(lambda x: clean(x))\n",
    "lovelace_df = lovelace_df['cleaned_text']\n"
   ],
   "metadata": {
    "collapsed": false,
    "pycharm": {
     "name": "#%%\n"
    }
   }
  },
  {
   "cell_type": "markdown",
   "source": [
    "How many paragraphs are in our dataframes?"
   ],
   "metadata": {
    "collapsed": false
   }
  },
  {
   "cell_type": "code",
   "execution_count": 27,
   "outputs": [
    {
     "name": "stdout",
     "output_type": "stream",
     "text": [
      "360\n",
      "4394\n",
      "1153\n",
      "971\n"
     ]
    }
   ],
   "source": [
    "print(len(frankenstein_df))\n",
    "print(len(pickwick_df))\n",
    "print(len(austen_df))\n",
    "print(len(lovelace_df))\n",
    "\n",
    "\n",
    "\n",
    "\n"
   ],
   "metadata": {
    "collapsed": false,
    "pycharm": {
     "name": "#%%\n"
    }
   }
  }
 ],
 "metadata": {
  "kernelspec": {
   "name": "pycharm-b1674269",
   "language": "python",
   "display_name": "PyCharm (oxford_uni)"
  },
  "language_info": {
   "codemirror_mode": {
    "name": "ipython",
    "version": 3
   },
   "file_extension": ".py",
   "mimetype": "text/x-python",
   "name": "python",
   "nbconvert_exporter": "python",
   "pygments_lexer": "ipython3",
   "version": "3.6.6"
  }
 },
 "nbformat": 4,
 "nbformat_minor": 2
}
